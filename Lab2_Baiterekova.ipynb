{
 "cells": [
  {
   "cell_type": "markdown",
   "metadata": {},
   "source": [
    "## Задание 1. Использование команд библиотеки NumPy"
   ]
  },
  {
   "cell_type": "code",
   "execution_count": 71,
   "metadata": {},
   "outputs": [],
   "source": [
    "import numpy as np"
   ]
  },
  {
   "cell_type": "markdown",
   "metadata": {},
   "source": [
    "### 1.1.\tСоздаем одномерный массив my_array, в котором по порядку все числа до 100, кратные 5"
   ]
  },
  {
   "cell_type": "code",
   "execution_count": 72,
   "metadata": {},
   "outputs": [
    {
     "data": {
      "text/plain": [
       "array([  5.,  10.,  15.,  20.,  25.,  30.,  35.,  40.,  45.,  50.,  55.,\n",
       "        60.,  65.,  70.,  75.,  80.,  85.,  90.,  95., 100.])"
      ]
     },
     "execution_count": 72,
     "metadata": {},
     "output_type": "execute_result"
    }
   ],
   "source": [
    "my_array = np.linspace(5,100,20)\n",
    "my_array\n"
   ]
  },
  {
   "cell_type": "markdown",
   "metadata": {},
   "source": [
    "### 2.1. Массив с числами кратными 10 и получение из него двумерного массива (3.1.)"
   ]
  },
  {
   "cell_type": "code",
   "execution_count": 73,
   "metadata": {},
   "outputs": [
    {
     "data": {
      "text/plain": [
       "array([[ 10.,  20.],\n",
       "       [ 30.,  40.],\n",
       "       [ 50.,  60.],\n",
       "       [ 70.,  80.],\n",
       "       [ 90., 100.]])"
      ]
     },
     "execution_count": 73,
     "metadata": {},
     "output_type": "execute_result"
    }
   ],
   "source": [
    "my_array = np.array([x for x in my_array if x % 10 == 0])\n",
    "my_array = my_array.reshape(5,2) #получение двумерного массива с двумя столбцами\n",
    "my_array"
   ]
  },
  {
   "cell_type": "markdown",
   "metadata": {},
   "source": [
    "\n",
    "### 4.1.\tПолучим набор my_second_array, в котором все элементы меньше предыдущего исходного на 5"
   ]
  },
  {
   "cell_type": "code",
   "execution_count": 74,
   "metadata": {},
   "outputs": [
    {
     "data": {
      "text/plain": [
       "array([[ 5., 15.],\n",
       "       [25., 35.],\n",
       "       [45., 55.],\n",
       "       [65., 75.],\n",
       "       [85., 95.]])"
      ]
     },
     "execution_count": 74,
     "metadata": {},
     "output_type": "execute_result"
    }
   ],
   "source": [
    "my_second_array = my_array - 5\n",
    "my_second_array"
   ]
  },
  {
   "cell_type": "markdown",
   "metadata": {},
   "source": [
    "### 5.1.\tСоединим массивы my_array2 и my_second_array горизонтально. Используйте .T для транспонирования матрицы."
   ]
  },
  {
   "cell_type": "code",
   "execution_count": 75,
   "metadata": {},
   "outputs": [
    {
     "name": "stdout",
     "output_type": "stream",
     "text": [
      "Исходный массив my_array:\n",
      "[[10. 30. 50. 70.]\n",
      " [20. 40. 60. 80.]]\n",
      "\n",
      "Исходный массив my_second_array:\n",
      "[[ 5. 15.]\n",
      " [25. 35.]\n",
      " [45. 55.]\n",
      " [65. 75.]\n",
      " [85. 95.]]\n",
      "\n",
      "Результат после объединения и транспонирования:\n",
      "[[ 10.  20.   5.  15.]\n",
      " [ 30.  40.  25.  35.]\n",
      " [ 50.  60.  45.  55.]\n",
      " [ 70.  80.  65.  75.]\n",
      " [ 90. 100.  85.  95.]]\n"
     ]
    },
    {
     "data": {
      "text/plain": [
       "(5, 4)"
      ]
     },
     "execution_count": 75,
     "metadata": {},
     "output_type": "execute_result"
    }
   ],
   "source": [
    "result_matrix = np.concatenate((my_array, my_second_array), axis=1)\n",
    "my_array = np.delete(my_array.T,[4], axis=1)\n",
    "print(\"Исходный массив my_array:\")\n",
    "print(my_array)\n",
    "print(\"\\nИсходный массив my_second_array:\")\n",
    "print(my_second_array)\n",
    "print(\"\\nРезультат после объединения и транспонирования:\")\n",
    "print(result_matrix)\n",
    "result_matrix.shape"
   ]
  },
  {
   "cell_type": "markdown",
   "metadata": {},
   "source": [
    "### 6.1.\tРазделите 2 и 3 строку на 4 верхних строки my_array. Используйте .T для транспонирования матрицы"
   ]
  },
  {
   "cell_type": "code",
   "execution_count": 76,
   "metadata": {},
   "outputs": [
    {
     "name": "stdout",
     "output_type": "stream",
     "text": [
      "[[ 10.          20.           5.          15.        ]\n",
      " [  3.           1.33333333   0.5          0.5       ]\n",
      " [  2.5          1.5          0.75         0.6875    ]\n",
      " [ 70.          80.          65.          75.        ]\n",
      " [ 90.         100.          85.          95.        ]]\n"
     ]
    }
   ],
   "source": [
    "result_matrix[1:3] = result_matrix[1:3] / my_array[:4]\n",
    "\n",
    "print(result_matrix)\n"
   ]
  },
  {
   "cell_type": "markdown",
   "metadata": {},
   "source": [
    "### 7.1.\tОставить только те значения, которые не изменились после деления\n"
   ]
  },
  {
   "cell_type": "code",
   "execution_count": 77,
   "metadata": {},
   "outputs": [
    {
     "data": {
      "text/plain": [
       "array([[ 10.,  20.,   5.,  15.],\n",
       "       [ 70.,  80.,  65.,  75.],\n",
       "       [ 90., 100.,  85.,  95.]])"
      ]
     },
     "execution_count": 77,
     "metadata": {},
     "output_type": "execute_result"
    }
   ],
   "source": [
    "new_combined = np.delete(result_matrix, np.where(np.any(result_matrix < 3, axis=1)), axis=0)\n",
    "new_combined\n"
   ]
  },
  {
   "cell_type": "markdown",
   "metadata": {},
   "source": [
    "### 8.1 Снова получить трехстрочный двумерный массив и поменять местами первую и третью строки"
   ]
  },
  {
   "cell_type": "code",
   "execution_count": 78,
   "metadata": {},
   "outputs": [
    {
     "name": "stdout",
     "output_type": "stream",
     "text": [
      "[[ 90. 100.  85.]\n",
      " [ 70.  80.  65.]\n",
      " [ 10.  20.   5.]]\n"
     ]
    }
   ],
   "source": [
    "result_3_rows = new_combined[:, :3]\n",
    "result_3_rows[[0, 2]] = result_3_rows[[2, 0]]\n",
    "print(result_3_rows)\n"
   ]
  },
  {
   "cell_type": "markdown",
   "metadata": {},
   "source": [
    "### 9.1 Получить среднее, медиану и стандартное отклонение для каждой строки"
   ]
  },
  {
   "cell_type": "code",
   "execution_count": 79,
   "metadata": {},
   "outputs": [
    {
     "name": "stdout",
     "output_type": "stream",
     "text": [
      "Среднее значение: [91.66666667 71.66666667 11.66666667]\n",
      "Медиана: [90. 70. 10.]\n",
      "Отклонение [6.23609564 6.23609564 6.23609564]\n"
     ]
    }
   ],
   "source": [
    "row_means = np.mean(result_3_rows, axis=1)\n",
    "row_medians = np.median(result_3_rows, axis=1)\n",
    "row_stdevs = np.std(result_3_rows, axis=1)\n",
    "print(\"Среднее значение:\", row_means)\n",
    "print(\"Медиана:\", row_medians)\n",
    "print(\"Отклонение\",+ row_stdevs)"
   ]
  },
  {
   "cell_type": "markdown",
   "metadata": {},
   "source": [
    "### 10.1 Сделать нормализацию на максимальное значение вдоль строк\n"
   ]
  },
  {
   "cell_type": "code",
   "execution_count": 80,
   "metadata": {},
   "outputs": [
    {
     "name": "stdout",
     "output_type": "stream",
     "text": [
      "[[0.9    1.     0.85  ]\n",
      " [0.875  1.     0.8125]\n",
      " [0.5    1.     0.25  ]]\n"
     ]
    }
   ],
   "source": [
    "normalized_result = result_3_rows / np.max(result_3_rows, axis=1, keepdims=True)\n",
    "print(normalized_result)\n"
   ]
  },
  {
   "cell_type": "markdown",
   "metadata": {},
   "source": [
    "# 2.\tИспользование команд библиотеки pandas"
   ]
  },
  {
   "cell_type": "code",
   "execution_count": 81,
   "metadata": {},
   "outputs": [],
   "source": [
    "import pandas as pd #импортируем пандас"
   ]
  },
  {
   "cell_type": "code",
   "execution_count": 82,
   "metadata": {},
   "outputs": [],
   "source": [
    "df = pd.read_csv(\"Global Population Trends(2016-2022).csv\")"
   ]
  },
  {
   "cell_type": "markdown",
   "metadata": {},
   "source": [
    "### 2.2.\t Считайте несколько первых записей таблицы (head())"
   ]
  },
  {
   "cell_type": "code",
   "execution_count": 83,
   "metadata": {},
   "outputs": [
    {
     "name": "stdout",
     "output_type": "stream",
     "text": [
      "Несколько первых записей: \n",
      "       Country  Year Total Population Urban Population Rural Population  \\\n",
      "0  Afghanistan  2017                -                -                -   \n",
      "1  Afghanistan  2018       36,686,784        9,353,296       27,333,488   \n",
      "2  Afghanistan  2019       37,769,499        9,727,157       28,042,342   \n",
      "3  Afghanistan  2020       38,972,230       10,142,913       28,829,317   \n",
      "4  Afghanistan  2021       40,099,462       10,551,772       29,547,690   \n",
      "\n",
      "  Population Density Life Expectancy  Birth Rate  Death Rate Fertility Rate  \\\n",
      "0                 55            63.0      37.342       7.027          5.129   \n",
      "1                 56            63.0      36.927       6.981          5.002   \n",
      "2                 58            64.0      36.466       6.791           4.87   \n",
      "3                 60            63.0      36.051       7.113           4.75   \n",
      "4                  -            62.0      35.842       7.344          4.643   \n",
      "\n",
      "  Infant Mortality Rate Growth Rate  \n",
      "0                  49.4           -  \n",
      "1                  47.8         3.0  \n",
      "2                  46.3         3.0  \n",
      "3                  44.8         3.0  \n",
      "4                  43.4         3.0  \n"
     ]
    }
   ],
   "source": [
    "print(\"Несколько первых записей: \")\n",
    "print(df.head())"
   ]
  },
  {
   "cell_type": "markdown",
   "metadata": {},
   "source": [
    "### 2.3. Определите размерность данного фрейма (shape())"
   ]
  },
  {
   "cell_type": "code",
   "execution_count": 84,
   "metadata": {},
   "outputs": [
    {
     "name": "stdout",
     "output_type": "stream",
     "text": [
      "Размерность данного фрейма  (1073, 12)\n"
     ]
    }
   ],
   "source": [
    "print(\"Размерность данного фрейма \", df.shape)\n"
   ]
  },
  {
   "cell_type": "markdown",
   "metadata": {},
   "source": [
    "### 2.4.\t Выведите название заголовков столбцов фрейма (columns)"
   ]
  },
  {
   "cell_type": "code",
   "execution_count": 85,
   "metadata": {},
   "outputs": [
    {
     "name": "stdout",
     "output_type": "stream",
     "text": [
      "Название заголовков столбцов фрейма :\n",
      "Index(['Country', 'Year', 'Total Population', 'Urban Population',\n",
      "       'Rural Population', 'Population Density', 'Life Expectancy',\n",
      "       'Birth Rate', 'Death Rate', 'Fertility Rate', 'Infant Mortality Rate',\n",
      "       'Growth Rate'],\n",
      "      dtype='object')\n"
     ]
    }
   ],
   "source": [
    "print(\"Название заголовков столбцов фрейма :\")\n",
    "print(df.columns)"
   ]
  },
  {
   "cell_type": "markdown",
   "metadata": {},
   "source": [
    "### 2.5.\tПолучите описание всех переменных (полей) (info())"
   ]
  },
  {
   "cell_type": "code",
   "execution_count": 86,
   "metadata": {},
   "outputs": [
    {
     "name": "stdout",
     "output_type": "stream",
     "text": [
      "Описание всех переменных:\n",
      "<class 'pandas.core.frame.DataFrame'>\n",
      "RangeIndex: 1073 entries, 0 to 1072\n",
      "Data columns (total 12 columns):\n",
      " #   Column                 Non-Null Count  Dtype  \n",
      "---  ------                 --------------  -----  \n",
      " 0   Country                1073 non-null   object \n",
      " 1   Year                   1073 non-null   int64  \n",
      " 2   Total Population       1073 non-null   object \n",
      " 3   Urban Population       1073 non-null   object \n",
      " 4   Rural Population       1073 non-null   object \n",
      " 5   Population Density     1073 non-null   object \n",
      " 6   Life Expectancy        1073 non-null   object \n",
      " 7   Birth Rate             1073 non-null   float64\n",
      " 8   Death Rate             1073 non-null   float64\n",
      " 9   Fertility Rate         1073 non-null   object \n",
      " 10  Infant Mortality Rate  1073 non-null   object \n",
      " 11  Growth Rate            1073 non-null   object \n",
      "dtypes: float64(2), int64(1), object(9)\n",
      "memory usage: 100.7+ KB\n",
      "None\n"
     ]
    }
   ],
   "source": [
    "print(\"Описание всех переменных:\")\n",
    "print(df.info())"
   ]
  },
  {
   "cell_type": "markdown",
   "metadata": {},
   "source": [
    "### 2.6.\t Удалите строки, не содержащие значения в столбце «Total Population» - “-” "
   ]
  },
  {
   "cell_type": "code",
   "execution_count": 87,
   "metadata": {},
   "outputs": [
    {
     "data": {
      "text/html": [
       "<div>\n",
       "<style scoped>\n",
       "    .dataframe tbody tr th:only-of-type {\n",
       "        vertical-align: middle;\n",
       "    }\n",
       "\n",
       "    .dataframe tbody tr th {\n",
       "        vertical-align: top;\n",
       "    }\n",
       "\n",
       "    .dataframe thead th {\n",
       "        text-align: right;\n",
       "    }\n",
       "</style>\n",
       "<table border=\"1\" class=\"dataframe\">\n",
       "  <thead>\n",
       "    <tr style=\"text-align: right;\">\n",
       "      <th></th>\n",
       "      <th>Country</th>\n",
       "      <th>Year</th>\n",
       "      <th>Total Population</th>\n",
       "      <th>Urban Population</th>\n",
       "      <th>Rural Population</th>\n",
       "      <th>Population Density</th>\n",
       "      <th>Life Expectancy</th>\n",
       "      <th>Birth Rate</th>\n",
       "      <th>Death Rate</th>\n",
       "      <th>Fertility Rate</th>\n",
       "      <th>Infant Mortality Rate</th>\n",
       "      <th>Growth Rate</th>\n",
       "    </tr>\n",
       "  </thead>\n",
       "  <tbody>\n",
       "    <tr>\n",
       "      <th>1</th>\n",
       "      <td>Afghanistan</td>\n",
       "      <td>2018</td>\n",
       "      <td>36,686,784</td>\n",
       "      <td>9,353,296</td>\n",
       "      <td>27,333,488</td>\n",
       "      <td>56</td>\n",
       "      <td>63.0</td>\n",
       "      <td>36.927</td>\n",
       "      <td>6.981</td>\n",
       "      <td>5.002</td>\n",
       "      <td>47.8</td>\n",
       "      <td>3.0</td>\n",
       "    </tr>\n",
       "    <tr>\n",
       "      <th>2</th>\n",
       "      <td>Afghanistan</td>\n",
       "      <td>2019</td>\n",
       "      <td>37,769,499</td>\n",
       "      <td>9,727,157</td>\n",
       "      <td>28,042,342</td>\n",
       "      <td>58</td>\n",
       "      <td>64.0</td>\n",
       "      <td>36.466</td>\n",
       "      <td>6.791</td>\n",
       "      <td>4.87</td>\n",
       "      <td>46.3</td>\n",
       "      <td>3.0</td>\n",
       "    </tr>\n",
       "    <tr>\n",
       "      <th>3</th>\n",
       "      <td>Afghanistan</td>\n",
       "      <td>2020</td>\n",
       "      <td>38,972,230</td>\n",
       "      <td>10,142,913</td>\n",
       "      <td>28,829,317</td>\n",
       "      <td>60</td>\n",
       "      <td>63.0</td>\n",
       "      <td>36.051</td>\n",
       "      <td>7.113</td>\n",
       "      <td>4.75</td>\n",
       "      <td>44.8</td>\n",
       "      <td>3.0</td>\n",
       "    </tr>\n",
       "    <tr>\n",
       "      <th>4</th>\n",
       "      <td>Afghanistan</td>\n",
       "      <td>2021</td>\n",
       "      <td>40,099,462</td>\n",
       "      <td>10,551,772</td>\n",
       "      <td>29,547,690</td>\n",
       "      <td>-</td>\n",
       "      <td>62.0</td>\n",
       "      <td>35.842</td>\n",
       "      <td>7.344</td>\n",
       "      <td>4.643</td>\n",
       "      <td>43.4</td>\n",
       "      <td>3.0</td>\n",
       "    </tr>\n",
       "    <tr>\n",
       "      <th>6</th>\n",
       "      <td>Albania</td>\n",
       "      <td>2018</td>\n",
       "      <td>2,866,376</td>\n",
       "      <td>1,728,969</td>\n",
       "      <td>1,137,407</td>\n",
       "      <td>105</td>\n",
       "      <td>79.0</td>\n",
       "      <td>10.517</td>\n",
       "      <td>8.308</td>\n",
       "      <td>1.44</td>\n",
       "      <td>8.3</td>\n",
       "      <td>0.0</td>\n",
       "    </tr>\n",
       "    <tr>\n",
       "      <th>...</th>\n",
       "      <td>...</td>\n",
       "      <td>...</td>\n",
       "      <td>...</td>\n",
       "      <td>...</td>\n",
       "      <td>...</td>\n",
       "      <td>...</td>\n",
       "      <td>...</td>\n",
       "      <td>...</td>\n",
       "      <td>...</td>\n",
       "      <td>...</td>\n",
       "      <td>...</td>\n",
       "      <td>...</td>\n",
       "    </tr>\n",
       "    <tr>\n",
       "      <th>1067</th>\n",
       "      <td>Zambia</td>\n",
       "      <td>2021</td>\n",
       "      <td>19,473,125</td>\n",
       "      <td>8,800,295</td>\n",
       "      <td>10,672,830</td>\n",
       "      <td>-</td>\n",
       "      <td>61.0</td>\n",
       "      <td>34.511</td>\n",
       "      <td>6.973</td>\n",
       "      <td>4.308</td>\n",
       "      <td>40.2</td>\n",
       "      <td>3.0</td>\n",
       "    </tr>\n",
       "    <tr>\n",
       "      <th>1069</th>\n",
       "      <td>Zimbabwe</td>\n",
       "      <td>2018</td>\n",
       "      <td>15,052,184</td>\n",
       "      <td>4,848,158</td>\n",
       "      <td>10,204,026</td>\n",
       "      <td>39</td>\n",
       "      <td>61.0</td>\n",
       "      <td>32.074</td>\n",
       "      <td>7.972</td>\n",
       "      <td>3.659</td>\n",
       "      <td>38.0</td>\n",
       "      <td>2.0</td>\n",
       "    </tr>\n",
       "    <tr>\n",
       "      <th>1070</th>\n",
       "      <td>Zimbabwe</td>\n",
       "      <td>2019</td>\n",
       "      <td>15,354,608</td>\n",
       "      <td>4,945,719</td>\n",
       "      <td>10,408,889</td>\n",
       "      <td>40</td>\n",
       "      <td>61.0</td>\n",
       "      <td>31.518</td>\n",
       "      <td>8.043</td>\n",
       "      <td>3.599</td>\n",
       "      <td>37.1</td>\n",
       "      <td>2.0</td>\n",
       "    </tr>\n",
       "    <tr>\n",
       "      <th>1071</th>\n",
       "      <td>Zimbabwe</td>\n",
       "      <td>2020</td>\n",
       "      <td>15,669,666</td>\n",
       "      <td>5,052,214</td>\n",
       "      <td>10,617,452</td>\n",
       "      <td>41</td>\n",
       "      <td>61.0</td>\n",
       "      <td>31.009</td>\n",
       "      <td>8.132</td>\n",
       "      <td>3.545</td>\n",
       "      <td>36.6</td>\n",
       "      <td>2.0</td>\n",
       "    </tr>\n",
       "    <tr>\n",
       "      <th>1072</th>\n",
       "      <td>Zimbabwe</td>\n",
       "      <td>2021</td>\n",
       "      <td>15,993,524</td>\n",
       "      <td>5,166,388</td>\n",
       "      <td>10,827,136</td>\n",
       "      <td>-</td>\n",
       "      <td>59.0</td>\n",
       "      <td>30.537</td>\n",
       "      <td>9.057</td>\n",
       "      <td>3.491</td>\n",
       "      <td>35.7</td>\n",
       "      <td>2.0</td>\n",
       "    </tr>\n",
       "  </tbody>\n",
       "</table>\n",
       "<p>864 rows × 12 columns</p>\n",
       "</div>"
      ],
      "text/plain": [
       "          Country  Year Total Population Urban Population Rural Population  \\\n",
       "1     Afghanistan  2018       36,686,784        9,353,296       27,333,488   \n",
       "2     Afghanistan  2019       37,769,499        9,727,157       28,042,342   \n",
       "3     Afghanistan  2020       38,972,230       10,142,913       28,829,317   \n",
       "4     Afghanistan  2021       40,099,462       10,551,772       29,547,690   \n",
       "6         Albania  2018        2,866,376        1,728,969        1,137,407   \n",
       "...           ...   ...              ...              ...              ...   \n",
       "1067       Zambia  2021       19,473,125        8,800,295       10,672,830   \n",
       "1069     Zimbabwe  2018       15,052,184        4,848,158       10,204,026   \n",
       "1070     Zimbabwe  2019       15,354,608        4,945,719       10,408,889   \n",
       "1071     Zimbabwe  2020       15,669,666        5,052,214       10,617,452   \n",
       "1072     Zimbabwe  2021       15,993,524        5,166,388       10,827,136   \n",
       "\n",
       "     Population Density Life Expectancy  Birth Rate  Death Rate  \\\n",
       "1                    56            63.0      36.927       6.981   \n",
       "2                    58            64.0      36.466       6.791   \n",
       "3                    60            63.0      36.051       7.113   \n",
       "4                     -            62.0      35.842       7.344   \n",
       "6                   105            79.0      10.517       8.308   \n",
       "...                 ...             ...         ...         ...   \n",
       "1067                  -            61.0      34.511       6.973   \n",
       "1069                 39            61.0      32.074       7.972   \n",
       "1070                 40            61.0      31.518       8.043   \n",
       "1071                 41            61.0      31.009       8.132   \n",
       "1072                  -            59.0      30.537       9.057   \n",
       "\n",
       "     Fertility Rate Infant Mortality Rate Growth Rate  \n",
       "1             5.002                  47.8         3.0  \n",
       "2              4.87                  46.3         3.0  \n",
       "3              4.75                  44.8         3.0  \n",
       "4             4.643                  43.4         3.0  \n",
       "6              1.44                   8.3         0.0  \n",
       "...             ...                   ...         ...  \n",
       "1067          4.308                  40.2         3.0  \n",
       "1069          3.659                  38.0         2.0  \n",
       "1070          3.599                  37.1         2.0  \n",
       "1071          3.545                  36.6         2.0  \n",
       "1072          3.491                  35.7         2.0  \n",
       "\n",
       "[864 rows x 12 columns]"
      ]
     },
     "execution_count": 87,
     "metadata": {},
     "output_type": "execute_result"
    }
   ],
   "source": [
    "df1 = df[df['Total Population'] != '-']\n",
    "df1"
   ]
  },
  {
   "cell_type": "code",
   "execution_count": 88,
   "metadata": {},
   "outputs": [
    {
     "name": "stdout",
     "output_type": "stream",
     "text": [
      "<class 'pandas.core.frame.DataFrame'>\n",
      "Index: 561 entries, 1 to 1071\n",
      "Data columns (total 12 columns):\n",
      " #   Column                 Non-Null Count  Dtype  \n",
      "---  ------                 --------------  -----  \n",
      " 0   Country                561 non-null    object \n",
      " 1   Year                   561 non-null    int64  \n",
      " 2   Total Population       561 non-null    object \n",
      " 3   Urban Population       561 non-null    object \n",
      " 4   Rural Population       561 non-null    object \n",
      " 5   Population Density     561 non-null    object \n",
      " 6   Life Expectancy        561 non-null    object \n",
      " 7   Birth Rate             561 non-null    float64\n",
      " 8   Death Rate             561 non-null    float64\n",
      " 9   Fertility Rate         561 non-null    object \n",
      " 10  Infant Mortality Rate  561 non-null    object \n",
      " 11  Growth Rate            561 non-null    object \n",
      "dtypes: float64(2), int64(1), object(9)\n",
      "memory usage: 57.0+ KB\n"
     ]
    }
   ],
   "source": [
    "for column in df1.columns:\n",
    "    df1 = df1[df1[column]!='-']\n",
    "df1.info()"
   ]
  },
  {
   "cell_type": "code",
   "execution_count": 89,
   "metadata": {},
   "outputs": [
    {
     "name": "stdout",
     "output_type": "stream",
     "text": [
      "<class 'pandas.core.frame.DataFrame'>\n",
      "Index: 561 entries, 1 to 1071\n",
      "Data columns (total 12 columns):\n",
      " #   Column                 Non-Null Count  Dtype  \n",
      "---  ------                 --------------  -----  \n",
      " 0   Country                561 non-null    object \n",
      " 1   Year                   561 non-null    int64  \n",
      " 2   Total Population       561 non-null    int32  \n",
      " 3   Urban Population       561 non-null    int32  \n",
      " 4   Rural Population       561 non-null    int32  \n",
      " 5   Population Density     561 non-null    int32  \n",
      " 6   Life Expectancy        561 non-null    float64\n",
      " 7   Birth Rate             561 non-null    float64\n",
      " 8   Death Rate             561 non-null    float64\n",
      " 9   Fertility Rate         561 non-null    float64\n",
      " 10  Infant Mortality Rate  561 non-null    float64\n",
      " 11  Growth Rate            561 non-null    float64\n",
      "dtypes: float64(6), int32(4), int64(1), object(1)\n",
      "memory usage: 48.2+ KB\n"
     ]
    }
   ],
   "source": [
    "df1['Total Population'] = df1['Total Population'].map(lambda x: x.replace(',', '')).astype(int)\n",
    "df1['Urban Population'] = df1['Urban Population'].map(lambda x: x.replace(',', '')).astype(int)\n",
    "df1['Rural Population'] = df1['Rural Population'].map(lambda x: x.replace(',', '')).astype(int)\n",
    "df1['Population Density'] = df1['Population Density'].map(lambda x: x.replace(',', '')).astype(int)\n",
    "df1['Life Expectancy'] = df1['Life Expectancy'].map(lambda x: x).astype(float)\n",
    "df1['Fertility Rate'] = df1['Fertility Rate'].map(lambda x: x).astype(float)\n",
    "df1['Infant Mortality Rate'] = df1['Infant Mortality Rate'].map(lambda x: x).astype(float)\n",
    "df1['Growth Rate'] = df1['Growth Rate'].map(lambda x: x).astype(float)\n",
    "\n",
    "df1.info()"
   ]
  },
  {
   "cell_type": "markdown",
   "metadata": {},
   "source": [
    "### 2.7.\tПолучите описательную статистику по переменным (например, max(), min(), describe())"
   ]
  },
  {
   "cell_type": "code",
   "execution_count": 90,
   "metadata": {},
   "outputs": [
    {
     "name": "stdout",
     "output_type": "stream",
     "text": [
      "Описательная статистика по переменным\n",
      "              Year   Birth Rate   Death Rate\n",
      "count  1073.000000  1073.000000  1073.000000\n",
      "mean   2019.013048    18.801519     7.841907\n",
      "std       1.410190     9.903449     2.973418\n",
      "min    2017.000000     0.000000     0.000000\n",
      "25%    2018.000000    10.620000     6.067000\n",
      "50%    2019.000000    16.025000     7.396000\n",
      "75%    2020.000000    25.921000     9.313000\n",
      "max    2021.000000    46.351000    21.700000\n"
     ]
    }
   ],
   "source": [
    "print(\"Описательная статистика по переменным\")\n",
    "print(df.describe())"
   ]
  },
  {
   "cell_type": "markdown",
   "metadata": {},
   "source": [
    "### 2.8.\tВыполните сортировку данных по нескольким критериям"
   ]
  },
  {
   "cell_type": "code",
   "execution_count": 91,
   "metadata": {},
   "outputs": [
    {
     "name": "stdout",
     "output_type": "stream",
     "text": [
      "       Country  Year Total Population Urban Population Rural Population  \\\n",
      "0  Afghanistan  2017                -                -                -   \n",
      "1  Afghanistan  2018       36,686,784        9,353,296       27,333,488   \n",
      "2  Afghanistan  2019       37,769,499        9,727,157       28,042,342   \n",
      "3  Afghanistan  2020       38,972,230       10,142,913       28,829,317   \n",
      "4  Afghanistan  2021       40,099,462       10,551,772       29,547,690   \n",
      "\n",
      "  Population Density Life Expectancy  Birth Rate  Death Rate Fertility Rate  \\\n",
      "0                 55            63.0      37.342       7.027          5.129   \n",
      "1                 56            63.0      36.927       6.981          5.002   \n",
      "2                 58            64.0      36.466       6.791           4.87   \n",
      "3                 60            63.0      36.051       7.113           4.75   \n",
      "4                  -            62.0      35.842       7.344          4.643   \n",
      "\n",
      "  Infant Mortality Rate Growth Rate  \n",
      "0                  49.4           -  \n",
      "1                  47.8         3.0  \n",
      "2                  46.3         3.0  \n",
      "3                  44.8         3.0  \n",
      "4                  43.4         3.0  \n"
     ]
    }
   ],
   "source": [
    "sorted_df = df.sort_values(by=['Country', 'Year'])\n",
    "print(sorted_df.head())"
   ]
  },
  {
   "cell_type": "markdown",
   "metadata": {},
   "source": [
    "### 2.9.\t Выведите название страны, которая имеет максимальную численность населения"
   ]
  },
  {
   "cell_type": "code",
   "execution_count": 92,
   "metadata": {},
   "outputs": [
    {
     "data": {
      "text/html": [
       "<div>\n",
       "<style scoped>\n",
       "    .dataframe tbody tr th:only-of-type {\n",
       "        vertical-align: middle;\n",
       "    }\n",
       "\n",
       "    .dataframe tbody tr th {\n",
       "        vertical-align: top;\n",
       "    }\n",
       "\n",
       "    .dataframe thead th {\n",
       "        text-align: right;\n",
       "    }\n",
       "</style>\n",
       "<table border=\"1\" class=\"dataframe\">\n",
       "  <thead>\n",
       "    <tr style=\"text-align: right;\">\n",
       "      <th></th>\n",
       "      <th>Country</th>\n",
       "      <th>Year</th>\n",
       "      <th>Total Population</th>\n",
       "      <th>Urban Population</th>\n",
       "      <th>Rural Population</th>\n",
       "      <th>Population Density</th>\n",
       "      <th>Life Expectancy</th>\n",
       "      <th>Birth Rate</th>\n",
       "      <th>Death Rate</th>\n",
       "      <th>Fertility Rate</th>\n",
       "      <th>Infant Mortality Rate</th>\n",
       "      <th>Growth Rate</th>\n",
       "    </tr>\n",
       "  </thead>\n",
       "  <tbody>\n",
       "    <tr>\n",
       "      <th>204</th>\n",
       "      <td>China</td>\n",
       "      <td>2020</td>\n",
       "      <td>1411100000</td>\n",
       "      <td>866810508</td>\n",
       "      <td>544289492</td>\n",
       "      <td>150</td>\n",
       "      <td>78.0</td>\n",
       "      <td>8.52</td>\n",
       "      <td>7.07</td>\n",
       "      <td>1.281</td>\n",
       "      <td>5.5</td>\n",
       "      <td>0.0</td>\n",
       "    </tr>\n",
       "  </tbody>\n",
       "</table>\n",
       "</div>"
      ],
      "text/plain": [
       "    Country  Year  Total Population  Urban Population  Rural Population  \\\n",
       "204   China  2020        1411100000         866810508         544289492   \n",
       "\n",
       "     Population Density  Life Expectancy  Birth Rate  Death Rate  \\\n",
       "204                 150             78.0        8.52        7.07   \n",
       "\n",
       "     Fertility Rate  Infant Mortality Rate  Growth Rate  \n",
       "204           1.281                    5.5          0.0  "
      ]
     },
     "execution_count": 92,
     "metadata": {},
     "output_type": "execute_result"
    }
   ],
   "source": [
    "df1.loc[df1['Total Population'] == df1['Total Population'].max()]\n",
    "\n"
   ]
  },
  {
   "cell_type": "markdown",
   "metadata": {},
   "source": [
    "### Минимальная численность"
   ]
  },
  {
   "cell_type": "code",
   "execution_count": 93,
   "metadata": {},
   "outputs": [
    {
     "data": {
      "text/html": [
       "<div>\n",
       "<style scoped>\n",
       "    .dataframe tbody tr th:only-of-type {\n",
       "        vertical-align: middle;\n",
       "    }\n",
       "\n",
       "    .dataframe tbody tr th {\n",
       "        vertical-align: top;\n",
       "    }\n",
       "\n",
       "    .dataframe thead th {\n",
       "        text-align: right;\n",
       "    }\n",
       "</style>\n",
       "<table border=\"1\" class=\"dataframe\">\n",
       "  <thead>\n",
       "    <tr style=\"text-align: right;\">\n",
       "      <th></th>\n",
       "      <th>Country</th>\n",
       "      <th>Year</th>\n",
       "      <th>Total Population</th>\n",
       "      <th>Urban Population</th>\n",
       "      <th>Rural Population</th>\n",
       "      <th>Population Density</th>\n",
       "      <th>Life Expectancy</th>\n",
       "      <th>Birth Rate</th>\n",
       "      <th>Death Rate</th>\n",
       "      <th>Fertility Rate</th>\n",
       "      <th>Infant Mortality Rate</th>\n",
       "      <th>Growth Rate</th>\n",
       "    </tr>\n",
       "  </thead>\n",
       "  <tbody>\n",
       "    <tr>\n",
       "      <th>994</th>\n",
       "      <td>Tuvalu</td>\n",
       "      <td>2018</td>\n",
       "      <td>10865</td>\n",
       "      <td>6778</td>\n",
       "      <td>4087</td>\n",
       "      <td>362</td>\n",
       "      <td>64.0</td>\n",
       "      <td>23.508</td>\n",
       "      <td>10.107</td>\n",
       "      <td>3.209</td>\n",
       "      <td>20.0</td>\n",
       "      <td>0.0</td>\n",
       "    </tr>\n",
       "  </tbody>\n",
       "</table>\n",
       "</div>"
      ],
      "text/plain": [
       "    Country  Year  Total Population  Urban Population  Rural Population  \\\n",
       "994  Tuvalu  2018             10865              6778              4087   \n",
       "\n",
       "     Population Density  Life Expectancy  Birth Rate  Death Rate  \\\n",
       "994                 362             64.0      23.508      10.107   \n",
       "\n",
       "     Fertility Rate  Infant Mortality Rate  Growth Rate  \n",
       "994           3.209                   20.0          0.0  "
      ]
     },
     "execution_count": 93,
     "metadata": {},
     "output_type": "execute_result"
    }
   ],
   "source": [
    "df1.loc[df1['Total Population'] == df1['Total Population'].min()]\n"
   ]
  },
  {
   "cell_type": "markdown",
   "metadata": {},
   "source": [
    "### 2.11 Экспорт фрейма в MS Excel"
   ]
  },
  {
   "cell_type": "code",
   "execution_count": 94,
   "metadata": {},
   "outputs": [
    {
     "name": "stdout",
     "output_type": "stream",
     "text": [
      "Экспортировано в 'Population_Trends_2016-2022.xlsx'\n"
     ]
    }
   ],
   "source": [
    "df.to_excel(\"Global_Population_Trends_2016-2022.xlsx\", index=False)\n",
    "print(\"Экспортировано в 'Population_Trends_2016-2022.xlsx'\")"
   ]
  }
 ],
 "metadata": {
  "kernelspec": {
   "display_name": "venv",
   "language": "python",
   "name": "python3"
  },
  "language_info": {
   "codemirror_mode": {
    "name": "ipython",
    "version": 3
   },
   "file_extension": ".py",
   "mimetype": "text/x-python",
   "name": "python",
   "nbconvert_exporter": "python",
   "pygments_lexer": "ipython3",
   "version": "3.10.2"
  },
  "orig_nbformat": 4
 },
 "nbformat": 4,
 "nbformat_minor": 2
}
