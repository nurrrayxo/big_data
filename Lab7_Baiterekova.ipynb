{
 "cells": [
  {
   "cell_type": "markdown",
   "metadata": {},
   "source": [
    "# Байтерекова Нурайым AIN-1-21 \n",
    "## Лабораторная работа №7\n",
    "### Работа с текстовыми данными."
   ]
  },
  {
   "cell_type": "code",
   "execution_count": 59,
   "metadata": {},
   "outputs": [],
   "source": [
    "from sklearn.feature_extraction.text import CountVectorizer\n",
    "from sklearn.feature_extraction.text import TfidfTransformer\n",
    "from sklearn.model_selection import train_test_split\n",
    "from sklearn.linear_model import LinearRegression"
   ]
  },
  {
   "cell_type": "markdown",
   "metadata": {},
   "source": [
    "### Создаю массив с отзывами\n",
    "#### Отзывы варьируются от положительных, выражающих удовлетворение от удобства использования, стильного дизайна и полезных функций, до отрицательных, где пользователи высказывают проблемы с багами, нестабильной работой, сложностью интерфейса и отсутствием некоторых желаемых функций. В общем, данные отражают разнообразные мнения пользователей, позволяя провести анализ для выделения ключевых аспектов, влияющих на восприятие приложения."
   ]
  },
  {
   "cell_type": "code",
   "execution_count": 60,
   "metadata": {},
   "outputs": [],
   "source": [
    "reviews = [\n",
    "    \"Excellent app, user-friendly interface and lots of useful features.\",\n",
    "    \"Didn't like it, crashes often, stability needs improvement.\",\n",
    "    \"Great app, but some features are inconvenient to use.\",\n",
    "    \"Excellent app, but needs improvement in loading speed.\",\n",
    "    \"Intuitive interface, but could add more settings.\",\n",
    "    \"Security issues, need to strengthen data protection.\",\n",
    "    \"Excellent work with cloud storage, easy to sync data.\",\n",
    "    \"The new feature is very useful, thanks for the update!\",\n",
    "    \"Great app, but sometimes problems with network connection occur.\",\n",
    "    \"Superb design, but would like more customization options.\",\n",
    "    \"Previous version was better, don't like changes in the interface.\",\n",
    "    \"Excellent support for voice commands, makes app usage even more convenient.\",\n",
    "    \"Too much advertising, would like an option to disable ads.\",\n",
    "    \"Issues with loading, app takes a long time to respond to commands.\",\n",
    "    \"User-friendly control, but occasional errors in data synchronization.\",\n",
    "    \"Love the design, but missing a dark theme for night mode.\",\n",
    "    \"Excellent customer support, quickly resolves all issues.\",\n",
    "    \"New interface design made the app more stylish and user-friendly.\",\n",
    "    \"The app is wonderful, but lacks some basic features.\",\n",
    "    \"Not worth the installation, too many bugs and low performance.\"\n",
    "]\n"
   ]
  },
  {
   "cell_type": "markdown",
   "metadata": {},
   "source": [
    "### Создание мешка слов"
   ]
  },
  {
   "cell_type": "code",
   "execution_count": 61,
   "metadata": {},
   "outputs": [
    {
     "name": "stdout",
     "output_type": "stream",
     "text": [
      "Словарь: ['add' 'ads' 'advertising' 'all' 'an' 'and' 'app' 'are' 'basic' 'better'\n",
      " 'bugs' 'but' 'changes' 'cloud' 'commands' 'connection' 'control'\n",
      " 'convenient' 'could' 'crashes' 'customer' 'customization' 'dark' 'data'\n",
      " 'design' 'didn' 'disable' 'don' 'easy' 'errors' 'even' 'excellent'\n",
      " 'feature' 'features' 'for' 'friendly' 'great' 'improvement' 'in'\n",
      " 'inconvenient' 'installation' 'interface' 'intuitive' 'is' 'issues' 'it'\n",
      " 'lacks' 'like' 'loading' 'long' 'lots' 'love' 'low' 'made' 'makes' 'many'\n",
      " 'missing' 'mode' 'more' 'much' 'need' 'needs' 'network' 'new' 'night'\n",
      " 'not' 'occasional' 'occur' 'of' 'often' 'option' 'options' 'performance'\n",
      " 'previous' 'problems' 'protection' 'quickly' 'resolves' 'respond'\n",
      " 'security' 'settings' 'some' 'sometimes' 'speed' 'stability' 'storage'\n",
      " 'strengthen' 'stylish' 'superb' 'support' 'sync' 'synchronization'\n",
      " 'takes' 'thanks' 'the' 'theme' 'time' 'to' 'too' 'update' 'usage' 'use'\n",
      " 'useful' 'user' 'version' 'very' 'voice' 'was' 'with' 'wonderful' 'work'\n",
      " 'worth' 'would']\n",
      "Мешок слов: [[0 0 0 ... 0 0 0]\n",
      " [0 0 0 ... 0 0 0]\n",
      " [0 0 0 ... 0 0 0]\n",
      " ...\n",
      " [0 0 0 ... 0 0 0]\n",
      " [0 0 0 ... 0 0 0]\n",
      " [0 0 0 ... 0 1 0]]\n"
     ]
    }
   ],
   "source": [
    "from sklearn.feature_extraction.text import CountVectorizer \n",
    "\n",
    "vectorizer = CountVectorizer()\n",
    "X = vectorizer.fit_transform(reviews)\n",
    "print(\"Словарь:\", vectorizer.get_feature_names_out())\n",
    "\n",
    "print(\"Мешок слов:\", X.toarray())\n"
   ]
  },
  {
   "cell_type": "markdown",
   "metadata": {},
   "source": [
    "### Словарь со стоп-словами"
   ]
  },
  {
   "cell_type": "code",
   "execution_count": 62,
   "metadata": {},
   "outputs": [
    {
     "name": "stdout",
     "output_type": "stream",
     "text": [
      "Словарь со стоп-словами: ['add' 'ads' 'advertising' 'app' 'basic' 'better' 'bugs' 'changes' 'cloud'\n",
      " 'commands' 'connection' 'control' 'convenient' 'crashes' 'customer'\n",
      " 'customization' 'dark' 'data' 'design' 'didn' 'disable' 'don' 'easy'\n",
      " 'errors' 'excellent' 'feature' 'features' 'friendly' 'great'\n",
      " 'improvement' 'inconvenient' 'installation' 'interface' 'intuitive'\n",
      " 'issues' 'lacks' 'like' 'loading' 'long' 'lots' 'love' 'low' 'makes'\n",
      " 'missing' 'mode' 'need' 'needs' 'network' 'new' 'night' 'occasional'\n",
      " 'occur' 'option' 'options' 'performance' 'previous' 'problems'\n",
      " 'protection' 'quickly' 'resolves' 'respond' 'security' 'settings' 'speed'\n",
      " 'stability' 'storage' 'strengthen' 'stylish' 'superb' 'support' 'sync'\n",
      " 'synchronization' 'takes' 'thanks' 'theme' 'time' 'update' 'usage' 'use'\n",
      " 'useful' 'user' 'version' 'voice' 'wonderful' 'work' 'worth']\n",
      "Мешок слов со стоп-словами: [[0 0 0 ... 0 0 0]\n",
      " [0 0 0 ... 0 0 0]\n",
      " [0 0 0 ... 0 0 0]\n",
      " ...\n",
      " [0 0 0 ... 0 0 0]\n",
      " [0 0 0 ... 1 0 0]\n",
      " [0 0 0 ... 0 0 1]]\n"
     ]
    }
   ],
   "source": [
    "from sklearn.feature_extraction.text import ENGLISH_STOP_WORDS\n",
    "\n",
    "# Преобразуйте множество стоп-слов в список\n",
    "stop_words_list = list(ENGLISH_STOP_WORDS)\n",
    "\n",
    "# Создание мешка слов с использованием стоп-слов\n",
    "vectorizer_stop_words = CountVectorizer(stop_words=stop_words_list)\n",
    "X_stop_words = vectorizer_stop_words.fit_transform(reviews)\n",
    "\n",
    "# Вывод словаря с применением стоп-слов\n",
    "print(\"Словарь со стоп-словами:\", vectorizer_stop_words.get_feature_names_out())\n",
    "# Вывод мешка слов с применением стоп-слов\n",
    "print(\"Мешок слов со стоп-словами:\", X_stop_words.toarray())\n"
   ]
  },
  {
   "cell_type": "markdown",
   "metadata": {},
   "source": [
    "### Масштабирую данные с помощью tf-idf:"
   ]
  },
  {
   "cell_type": "code",
   "execution_count": 63,
   "metadata": {},
   "outputs": [
    {
     "name": "stdout",
     "output_type": "stream",
     "text": [
      "TF-IDF Мешок слов: [[0.         0.         0.         ... 0.         0.         0.        ]\n",
      " [0.         0.         0.         ... 0.         0.         0.        ]\n",
      " [0.         0.         0.         ... 0.         0.         0.        ]\n",
      " ...\n",
      " [0.         0.         0.         ... 0.         0.         0.        ]\n",
      " [0.         0.         0.         ... 0.         0.         0.        ]\n",
      " [0.         0.         0.         ... 0.         0.33721655 0.        ]]\n"
     ]
    }
   ],
   "source": [
    "from sklearn.feature_extraction.text import TfidfVectorizer\n",
    "\n",
    "vectorizer_tfidf = TfidfVectorizer()\n",
    "X_tfidf = vectorizer_tfidf.fit_transform(reviews)\n",
    "\n",
    "print(\"TF-IDF Мешок слов:\", X_tfidf.toarray())\n"
   ]
  },
  {
   "cell_type": "markdown",
   "metadata": {},
   "source": [
    "### Некоторые метки (целевые значения). Бинарная классификация"
   ]
  },
  {
   "cell_type": "code",
   "execution_count": 64,
   "metadata": {},
   "outputs": [],
   "source": [
    "from sklearn.model_selection import train_test_split\n",
    "\n",
    "labels = [1, 0, 1, 0, 1, 0, 1, 0, 1, 0, 1, 0, 1, 0, 1, 0, 1, 0, 1, 0]\n",
    "X_train, X_test, y_train, y_test = train_test_split(X_tfidf, labels, test_size=0.2, random_state=42)"
   ]
  },
  {
   "cell_type": "markdown",
   "metadata": {},
   "source": [
    "### Создание и обучение модели"
   ]
  },
  {
   "cell_type": "code",
   "execution_count": 65,
   "metadata": {},
   "outputs": [
    {
     "data": {
      "text/html": [
       "<style>#sk-container-id-5 {color: black;}#sk-container-id-5 pre{padding: 0;}#sk-container-id-5 div.sk-toggleable {background-color: white;}#sk-container-id-5 label.sk-toggleable__label {cursor: pointer;display: block;width: 100%;margin-bottom: 0;padding: 0.3em;box-sizing: border-box;text-align: center;}#sk-container-id-5 label.sk-toggleable__label-arrow:before {content: \"▸\";float: left;margin-right: 0.25em;color: #696969;}#sk-container-id-5 label.sk-toggleable__label-arrow:hover:before {color: black;}#sk-container-id-5 div.sk-estimator:hover label.sk-toggleable__label-arrow:before {color: black;}#sk-container-id-5 div.sk-toggleable__content {max-height: 0;max-width: 0;overflow: hidden;text-align: left;background-color: #f0f8ff;}#sk-container-id-5 div.sk-toggleable__content pre {margin: 0.2em;color: black;border-radius: 0.25em;background-color: #f0f8ff;}#sk-container-id-5 input.sk-toggleable__control:checked~div.sk-toggleable__content {max-height: 200px;max-width: 100%;overflow: auto;}#sk-container-id-5 input.sk-toggleable__control:checked~label.sk-toggleable__label-arrow:before {content: \"▾\";}#sk-container-id-5 div.sk-estimator input.sk-toggleable__control:checked~label.sk-toggleable__label {background-color: #d4ebff;}#sk-container-id-5 div.sk-label input.sk-toggleable__control:checked~label.sk-toggleable__label {background-color: #d4ebff;}#sk-container-id-5 input.sk-hidden--visually {border: 0;clip: rect(1px 1px 1px 1px);clip: rect(1px, 1px, 1px, 1px);height: 1px;margin: -1px;overflow: hidden;padding: 0;position: absolute;width: 1px;}#sk-container-id-5 div.sk-estimator {font-family: monospace;background-color: #f0f8ff;border: 1px dotted black;border-radius: 0.25em;box-sizing: border-box;margin-bottom: 0.5em;}#sk-container-id-5 div.sk-estimator:hover {background-color: #d4ebff;}#sk-container-id-5 div.sk-parallel-item::after {content: \"\";width: 100%;border-bottom: 1px solid gray;flex-grow: 1;}#sk-container-id-5 div.sk-label:hover label.sk-toggleable__label {background-color: #d4ebff;}#sk-container-id-5 div.sk-serial::before {content: \"\";position: absolute;border-left: 1px solid gray;box-sizing: border-box;top: 0;bottom: 0;left: 50%;z-index: 0;}#sk-container-id-5 div.sk-serial {display: flex;flex-direction: column;align-items: center;background-color: white;padding-right: 0.2em;padding-left: 0.2em;position: relative;}#sk-container-id-5 div.sk-item {position: relative;z-index: 1;}#sk-container-id-5 div.sk-parallel {display: flex;align-items: stretch;justify-content: center;background-color: white;position: relative;}#sk-container-id-5 div.sk-item::before, #sk-container-id-5 div.sk-parallel-item::before {content: \"\";position: absolute;border-left: 1px solid gray;box-sizing: border-box;top: 0;bottom: 0;left: 50%;z-index: -1;}#sk-container-id-5 div.sk-parallel-item {display: flex;flex-direction: column;z-index: 1;position: relative;background-color: white;}#sk-container-id-5 div.sk-parallel-item:first-child::after {align-self: flex-end;width: 50%;}#sk-container-id-5 div.sk-parallel-item:last-child::after {align-self: flex-start;width: 50%;}#sk-container-id-5 div.sk-parallel-item:only-child::after {width: 0;}#sk-container-id-5 div.sk-dashed-wrapped {border: 1px dashed gray;margin: 0 0.4em 0.5em 0.4em;box-sizing: border-box;padding-bottom: 0.4em;background-color: white;}#sk-container-id-5 div.sk-label label {font-family: monospace;font-weight: bold;display: inline-block;line-height: 1.2em;}#sk-container-id-5 div.sk-label-container {text-align: center;}#sk-container-id-5 div.sk-container {/* jupyter's `normalize.less` sets `[hidden] { display: none; }` but bootstrap.min.css set `[hidden] { display: none !important; }` so we also need the `!important` here to be able to override the default hidden behavior on the sphinx rendered scikit-learn.org. See: https://github.com/scikit-learn/scikit-learn/issues/21755 */display: inline-block !important;position: relative;}#sk-container-id-5 div.sk-text-repr-fallback {display: none;}</style><div id=\"sk-container-id-5\" class=\"sk-top-container\"><div class=\"sk-text-repr-fallback\"><pre>LogisticRegression()</pre><b>In a Jupyter environment, please rerun this cell to show the HTML representation or trust the notebook. <br />On GitHub, the HTML representation is unable to render, please try loading this page with nbviewer.org.</b></div><div class=\"sk-container\" hidden><div class=\"sk-item\"><div class=\"sk-estimator sk-toggleable\"><input class=\"sk-toggleable__control sk-hidden--visually\" id=\"sk-estimator-id-5\" type=\"checkbox\" checked><label for=\"sk-estimator-id-5\" class=\"sk-toggleable__label sk-toggleable__label-arrow\">LogisticRegression</label><div class=\"sk-toggleable__content\"><pre>LogisticRegression()</pre></div></div></div></div></div>"
      ],
      "text/plain": [
       "LogisticRegression()"
      ]
     },
     "execution_count": 65,
     "metadata": {},
     "output_type": "execute_result"
    }
   ],
   "source": [
    "from sklearn.linear_model import LogisticRegression\n",
    "model = LogisticRegression()\n",
    "model.fit(X_train, y_train)"
   ]
  },
  {
   "cell_type": "markdown",
   "metadata": {},
   "source": [
    "\n",
    "### Оценка точности модели"
   ]
  },
  {
   "cell_type": "code",
   "execution_count": 66,
   "metadata": {},
   "outputs": [
    {
     "name": "stdout",
     "output_type": "stream",
     "text": [
      "Точность модели: 0.25\n"
     ]
    }
   ],
   "source": [
    "from sklearn import metrics\n",
    "# Прогнозирование на тестовом наборе\n",
    "y_pred = model.predict(X_test)\n",
    "accuracy = metrics.accuracy_score(y_test, y_pred)\n",
    "print(f\"Точность модели: {accuracy:.2f}\")"
   ]
  },
  {
   "cell_type": "markdown",
   "metadata": {},
   "source": [
    "### Вывожу топ10 положит. и топ10 отриц. коэффициентов"
   ]
  },
  {
   "cell_type": "code",
   "execution_count": 67,
   "metadata": {},
   "outputs": [
    {
     "name": "stdout",
     "output_type": "stream",
     "text": [
      "Топ-10 положительных коэффициентов:\n",
      "version: 0.24649961468944906\n",
      "like: 0.23459041582678308\n",
      "intuitive: 0.22242776034753498\n",
      "low: 0.20458286395337533\n",
      "usage: 0.15965941625020846\n",
      "update: 0.15965941625020846\n",
      "disable: 0.15965941625020846\n",
      "app: 0.15965941625020846\n",
      "control: 0.15801719990175905\n",
      "user: 0.15473808570399683\n",
      "\n",
      "Топ-10 отрицательных коэффициентов:\n",
      "new: -0.32223706985052186\n",
      "customer: -0.26954379261269545\n",
      "issues: -0.24688521368653385\n",
      "wonderful: -0.2138096589932101\n",
      "don: -0.20162558301019046\n",
      "synchronization: -0.20162558301019046\n",
      "respond: -0.19687531504994032\n",
      "time: -0.19687531504994032\n",
      "useful: -0.19687531504994032\n",
      "loading: -0.1879419629442675\n"
     ]
    }
   ],
   "source": [
    "\n",
    "coefficients = model.coef_[0]\n",
    "feature_names = vectorizer_stop_words.get_feature_names_out()\n",
    "\n",
    "top_positive_coefficients = sorted(zip(coefficients, feature_names), reverse=True)[:10]\n",
    "top_negative_coefficients = sorted(zip(coefficients, feature_names))[:10]\n",
    "\n",
    "print(\"Топ-10 положительных коэффициентов:\")\n",
    "for coef, feature in top_positive_coefficients:\n",
    "    print(f\"{feature}: {coef}\")\n",
    "\n",
    "print(\"\\nТоп-10 отрицательных коэффициентов:\")\n",
    "for coef, feature in top_negative_coefficients:\n",
    "    print(f\"{feature}: {coef}\")"
   ]
  }
 ],
 "metadata": {
  "kernelspec": {
   "display_name": "venv",
   "language": "python",
   "name": "python3"
  },
  "language_info": {
   "codemirror_mode": {
    "name": "ipython",
    "version": 3
   },
   "file_extension": ".py",
   "mimetype": "text/x-python",
   "name": "python",
   "nbconvert_exporter": "python",
   "pygments_lexer": "ipython3",
   "version": "3.10.2"
  }
 },
 "nbformat": 4,
 "nbformat_minor": 2
}
