{
 "cells": [
  {
   "cell_type": "markdown",
   "metadata": {},
   "source": [
    "## Labwork 1"
   ]
  },
  {
   "cell_type": "markdown",
   "metadata": {},
   "source": [
    "## Nuraiym Baiterekova AIN-1-21"
   ]
  },
  {
   "cell_type": "markdown",
   "metadata": {},
   "source": [
    "<h3>Variables</h3>"
   ]
  },
  {
   "cell_type": "code",
   "execution_count": 5,
   "metadata": {},
   "outputs": [
    {
     "name": "stdout",
     "output_type": "stream",
     "text": [
      "2\n"
     ]
    }
   ],
   "source": [
    "i=2\n",
    "print(i)"
   ]
  },
  {
   "cell_type": "markdown",
   "metadata": {},
   "source": []
  },
  {
   "cell_type": "code",
   "execution_count": 1,
   "metadata": {},
   "outputs": [
    {
     "name": "stdout",
     "output_type": "stream",
     "text": [
      "<class 'str'>\n"
     ]
    }
   ],
   "source": [
    "a = \"hello\"\n",
    "t = type(a)\n",
    "print(t)"
   ]
  },
  {
   "cell_type": "code",
   "execution_count": 9,
   "metadata": {},
   "outputs": [
    {
     "name": "stdout",
     "output_type": "stream",
     "text": [
      "{'erbol': 1, 'djurat': 2, 'tariel': 3, 'emir': 4}\n"
     ]
    }
   ],
   "source": [
    "d = {'erbol': 1, 'djurat': 2, 'tariel':3, 'emir':4}\n",
    "print(d)"
   ]
  },
  {
   "cell_type": "markdown",
   "metadata": {},
   "source": [
    "<h3>Math library</h3>"
   ]
  },
  {
   "cell_type": "code",
   "execution_count": 13,
   "metadata": {},
   "outputs": [
    {
     "name": "stdout",
     "output_type": "stream",
     "text": [
      "0.5403023058681398\n"
     ]
    }
   ],
   "source": [
    "import math\n",
    "p = math.cos(120)\n",
    "print(p)"
   ]
  },
  {
   "cell_type": "code",
   "execution_count": 15,
   "metadata": {},
   "outputs": [
    {
     "name": "stdout",
     "output_type": "stream",
     "text": [
      "144.51326206513048\n"
     ]
    }
   ],
   "source": [
    "import math\n",
    "r = 23\n",
    "print(2* math.pi*r)"
   ]
  },
  {
   "cell_type": "code",
   "execution_count": 2,
   "metadata": {},
   "outputs": [
    {
     "name": "stdout",
     "output_type": "stream",
     "text": [
      "2.302585092994046\n"
     ]
    }
   ],
   "source": [
    "import math\n",
    "print (math.log(10))"
   ]
  },
  {
   "cell_type": "markdown",
   "metadata": {},
   "source": [
    "<h3>If else</h3>"
   ]
  },
  {
   "cell_type": "code",
   "execution_count": 2,
   "metadata": {},
   "outputs": [
    {
     "name": "stdout",
     "output_type": "stream",
     "text": [
      "i меньше i2\n"
     ]
    }
   ],
   "source": [
    "i = 2\n",
    "i2 = 3 \n",
    "if i< i2:\n",
    "    print('i меньше i2')\n",
    "elif i> i2: \n",
    "    print ('i больше i2')\n",
    "else:\n",
    "    print ('i = i2')"
   ]
  },
  {
   "cell_type": "markdown",
   "metadata": {},
   "source": [
    "<h3>Loops</h3>"
   ]
  },
  {
   "cell_type": "code",
   "execution_count": 22,
   "metadata": {},
   "outputs": [
    {
     "name": "stdout",
     "output_type": "stream",
     "text": [
      "[1, 2, 4, 5, 6, 7]\n",
      "1\n",
      "2\n",
      "4\n",
      "5\n",
      "6\n",
      "7\n"
     ]
    }
   ],
   "source": [
    "list = [1, 2, 4, 5, 6, 7]\n",
    "print(list)\n",
    "\n",
    "for e in list:\n",
    "    print(e)"
   ]
  },
  {
   "cell_type": "code",
   "execution_count": 26,
   "metadata": {},
   "outputs": [
    {
     "name": "stdout",
     "output_type": "stream",
     "text": [
      "числа от 0 до 10: 0\n",
      "числа от 0 до 10: 1\n",
      "числа от 0 до 10: 2\n",
      "числа от 0 до 10: 3\n",
      "числа от 0 до 10: 4\n",
      "числа от 0 до 10: 5\n",
      "числа от 0 до 10: 6\n",
      "числа от 0 до 10: 7\n",
      "числа от 0 до 10: 8\n",
      "числа от 0 до 10: 9\n"
     ]
    }
   ],
   "source": [
    "for num in range(10):\n",
    "    print(\"числа от 0 до 10:\", num)\n"
   ]
  },
  {
   "cell_type": "code",
   "execution_count": 30,
   "metadata": {},
   "outputs": [
    {
     "name": "stdout",
     "output_type": "stream",
     "text": [
      "Number: 0\n",
      "Number: 1\n",
      "Number: 2\n",
      "Number: 3\n",
      "Number: 4\n",
      "Number: 5\n",
      "Number: 6\n",
      "Number: 7\n",
      "Number: 8\n",
      "Number: 9\n",
      "Number: 10\n"
     ]
    }
   ],
   "source": [
    "import time\n",
    "for i in range(11):\n",
    "    time.sleep(0.5)\n",
    "    print('Number:', i)"
   ]
  },
  {
   "cell_type": "markdown",
   "metadata": {},
   "source": [
    "<h3> While loop</h3>"
   ]
  },
  {
   "cell_type": "code",
   "execution_count": 32,
   "metadata": {},
   "outputs": [
    {
     "name": "stdout",
     "output_type": "stream",
     "text": [
      "3\n",
      "4\n",
      "5\n",
      "6\n",
      "7\n",
      "8\n",
      "9\n"
     ]
    }
   ],
   "source": [
    "counter = 3\n",
    "while counter < 10:\n",
    "    print(counter)\n",
    "    counter += 1\n"
   ]
  },
  {
   "cell_type": "markdown",
   "metadata": {},
   "source": [
    "<h3>Function</h3>"
   ]
  },
  {
   "cell_type": "code",
   "execution_count": 37,
   "metadata": {},
   "outputs": [
    {
     "data": {
      "text/plain": [
       "10"
      ]
     },
     "execution_count": 37,
     "metadata": {},
     "output_type": "execute_result"
    }
   ],
   "source": [
    "def add7(x):\n",
    "    y = x + 7\n",
    "    return y\n",
    "i = 3\n",
    "add7(i)"
   ]
  },
  {
   "cell_type": "code",
   "execution_count": 39,
   "metadata": {},
   "outputs": [
    {
     "data": {
      "text/plain": [
       "25"
      ]
     },
     "execution_count": 39,
     "metadata": {},
     "output_type": "execute_result"
    }
   ],
   "source": [
    "square = lambda x: x*x\n",
    "square (5)\n"
   ]
  },
  {
   "cell_type": "markdown",
   "metadata": {},
   "source": [
    "<h3>Html code</h3>"
   ]
  },
  {
   "cell_type": "markdown",
   "metadata": {},
   "source": [
    "<h1>Nuraiym Baiterekova</h1>\n",
    "<h2>Nuraiym Baiterekova</h2>\n",
    "<h3>Nuraiym Baiterekova</h3>\n",
    "<h4>Nuraiym Baiterekova</h4>\n",
    "<h5>Nuraiym Baiterekova</h5>\n",
    "<h6>Nuraiym Baiterekova</h6>"
   ]
  },
  {
   "cell_type": "markdown",
   "metadata": {},
   "source": [
    "<h3>Image</h3>"
   ]
  },
  {
   "cell_type": "markdown",
   "metadata": {},
   "source": [
    "<img src='PastedGraphic-1.png' width='300'>"
   ]
  },
  {
   "cell_type": "markdown",
   "metadata": {},
   "source": [
    "<h3>Formula</h3>"
   ]
  },
  {
   "cell_type": "markdown",
   "metadata": {},
   "source": [
    "\\begin{equation*}\n",
    "\\left(sum_{k=1}^n a_k b_k\\right)^2\n",
    "\\end{equation*}"
   ]
  },
  {
   "cell_type": "markdown",
   "metadata": {},
   "source": [
    "<h3> Einsteins formula </h3>"
   ]
  },
  {
   "cell_type": "markdown",
   "metadata": {},
   "source": [
    "\\begin{equation*}\n",
    "\\ (E=mc^2\\ )\n",
    "\\end{equation*}"
   ]
  },
  {
   "cell_type": "markdown",
   "metadata": {},
   "source": [
    "$$\n",
    "\\text{Уравнение окружности: } x^2 + y^2 = R^2, R \\text{ - radius}\n",
    "$$"
   ]
  },
  {
   "cell_type": "markdown",
   "metadata": {},
   "source": [
    "$$\n",
    "\\begin{align}\n",
    "ax^2 + bx + c = 0\\\\\n",
    "D = b^2 - 4ac \\\\\n",
    "x_{1,2} = \\frac{-b \\pm \\sqrt{D}}{2a}\n",
    "\\end{align}\n",
    "$$"
   ]
  },
  {
   "cell_type": "markdown",
   "metadata": {},
   "source": [
    "<h3>Console commands</h3>"
   ]
  },
  {
   "cell_type": "code",
   "execution_count": 3,
   "metadata": {},
   "outputs": [
    {
     "name": "stdout",
     "output_type": "stream",
     "text": [
      "\n",
      "����ன�� ��⮪��� IP ��� Windows\n",
      "\n",
      "\n",
      "������ Ethernet VirtualBox Host-Only Network:\n",
      "\n",
      "   DNS-���䨪� ������祭�� . . . . . : \n",
      "   ������� IPv6-���� ������ . . . : fe80::cb00:bdd0:21ce:8f63%3\n",
      "   IPv4-����. . . . . . . . . . . . : 192.168.56.1\n",
      "   ��᪠ ����� . . . . . . . . . . : 255.255.255.0\n",
      "   �᭮���� ��. . . . . . . . . : \n",
      "\n",
      "������ ���஢����� �����쭮� �� ������祭�� �� �����쭮� ��* 1:\n",
      "\n",
      "   ����ﭨ� �।�. . . . . . . . : �।� ��।�� ������㯭�.\n",
      "   DNS-���䨪� ������祭�� . . . . . : \n",
      "\n",
      "������ ���஢����� �����쭮� �� ������祭�� �� �����쭮� ��* 10:\n",
      "\n",
      "   ����ﭨ� �।�. . . . . . . . : �।� ��।�� ������㯭�.\n",
      "   DNS-���䨪� ������祭�� . . . . . : \n",
      "\n",
      "������ ���஢����� �����쭮� �� ���஢����� ���:\n",
      "\n",
      "   DNS-���䨪� ������祭�� . . . . . : \n",
      "   ������� IPv6-���� ������ . . . : fe80::a107:f103:9618:47bd%11\n",
      "   IPv4-����. . . . . . . . . . . . : 172.20.10.5\n",
      "   ��᪠ ����� . . . . . . . . . . : 255.255.255.240\n",
      "   �᭮���� ��. . . . . . . . . : 172.20.10.1\n",
      "\n",
      "������ Ethernet ��⥢�� ������祭�� Bluetooth:\n",
      "\n",
      "   ����ﭨ� �।�. . . . . . . . : �।� ��।�� ������㯭�.\n",
      "   DNS-���䨪� ������祭�� . . . . . : \n"
     ]
    }
   ],
   "source": [
    "! ipconfig"
   ]
  },
  {
   "cell_type": "markdown",
   "metadata": {},
   "source": [
    "<h3>Pingigng<\\h3>"
   ]
  },
  {
   "cell_type": "code",
   "execution_count": 4,
   "metadata": {},
   "outputs": [
    {
     "name": "stdout",
     "output_type": "stream",
     "text": [
      "\n",
      "����� ����⠬� � google.com [216.58.209.174] � 32 ���⠬� ������:\n",
      "�⢥� �� 216.58.209.174: �᫮ ����=32 �६�=142�� TTL=57\n",
      "�⢥� �� 216.58.209.174: �᫮ ����=32 �६�=142�� TTL=57\n",
      "�⢥� �� 216.58.209.174: �᫮ ����=32 �६�=95�� TTL=57\n",
      "�⢥� �� 216.58.209.174: �᫮ ����=32 �६�=98�� TTL=57\n",
      "\n",
      "����⨪� Ping ��� 216.58.209.174:\n",
      "    ����⮢: ��ࠢ���� = 4, ����祭� = 4, ����ﭮ = 0\n",
      "    (0% �����)\n",
      "�ਡ����⥫쭮� �६� �ਥ��-��।�� � ��:\n",
      "    �������쭮� = 95�ᥪ, ���ᨬ��쭮� = 142 �ᥪ, �।��� = 119 �ᥪ\n"
     ]
    }
   ],
   "source": [
    "! ping google.com"
   ]
  },
  {
   "cell_type": "code",
   "execution_count": 4,
   "metadata": {},
   "outputs": [
    {
     "data": {
      "text/plain": [
       "array([[1., 1.],\n",
       "       [1., 1.]])"
      ]
     },
     "execution_count": 4,
     "metadata": {},
     "output_type": "execute_result"
    }
   ],
   "source": []
  },
  {
   "cell_type": "markdown",
   "metadata": {},
   "source": [
    "<h3><FONT COLOR=\"#FF5733\" Hello> <h3>"
   ]
  },
  {
   "cell_type": "markdown",
   "metadata": {},
   "source": []
  }
 ],
 "metadata": {
  "kernelspec": {
   "display_name": "venv",
   "language": "python",
   "name": "python3"
  },
  "language_info": {
   "codemirror_mode": {
    "name": "ipython",
    "version": 3
   },
   "file_extension": ".py",
   "mimetype": "text/x-python",
   "name": "python",
   "nbconvert_exporter": "python",
   "pygments_lexer": "ipython3",
   "version": "3.10.2"
  },
  "orig_nbformat": 4
 },
 "nbformat": 4,
 "nbformat_minor": 2
}
